{
 "cells": [
  {
   "cell_type": "markdown",
   "metadata": {
    "collapsed": true
   },
   "source": [
    "# Python Web scraping for CopernicusEMS service"
   ]
  },
  {
   "cell_type": "markdown",
   "metadata": {},
   "source": [
    "The goal of this document is to automatize the download of vector files provided from the CopernicusEMS services and their aggregation in a unique merged file.\n",
    "\n",
    "This procedure has to be followed if you upload merged files that you already created from CopernicusEMS."
   ]
  },
  {
   "cell_type": "markdown",
   "metadata": {},
   "source": [
    "Import Beautiful Soup"
   ]
  },
  {
   "cell_type": "code",
   "execution_count": 1,
   "metadata": {
    "collapsed": true
   },
   "outputs": [],
   "source": [
    "from bs4 import BeautifulSoup as BS"
   ]
  },
  {
   "cell_type": "code",
   "execution_count": 2,
   "metadata": {
    "collapsed": true
   },
   "outputs": [],
   "source": [
    "import urllib\n",
    "import urllib2"
   ]
  },
  {
   "cell_type": "code",
   "execution_count": 3,
   "metadata": {
    "collapsed": true
   },
   "outputs": [],
   "source": [
    "import requests"
   ]
  },
  {
   "cell_type": "markdown",
   "metadata": {},
   "source": [
    "Set the base URL to the relevant CopernicusEMS component"
   ]
  },
  {
   "cell_type": "code",
   "execution_count": 4,
   "metadata": {
    "collapsed": true
   },
   "outputs": [],
   "source": [
    "baseurl = \"http://emergency.copernicus.eu/mapping/list-of-components/EMSR190/\" "
   ]
  },
  {
   "cell_type": "markdown",
   "metadata": {},
   "source": [
    "Create a soup object with the baseurl"
   ]
  },
  {
   "cell_type": "code",
   "execution_count": 5,
   "metadata": {
    "collapsed": false
   },
   "outputs": [
    {
     "name": "stderr",
     "output_type": "stream",
     "text": [
      "/usr/lib/python2.7/dist-packages/bs4/__init__.py:166: UserWarning: No parser was explicitly specified, so I'm using the best available HTML parser for this system (\"lxml\"). This usually isn't a problem, but if you run this code on another system, or in a different virtual environment, it may use a different parser and behave differently.\n",
      "\n",
      "To get rid of this warning, change this:\n",
      "\n",
      " BeautifulSoup([your markup])\n",
      "\n",
      "to this:\n",
      "\n",
      " BeautifulSoup([your markup], \"lxml\")\n",
      "\n",
      "  markup_type=markup_type))\n"
     ]
    }
   ],
   "source": [
    "soup = BS(urllib2.urlopen(baseurl))"
   ]
  },
  {
   "cell_type": "markdown",
   "metadata": {},
   "source": [
    "Extract all links (using the \"< a >\" tags where the attribute \"href\" is valid)"
   ]
  },
  {
   "cell_type": "code",
   "execution_count": 6,
   "metadata": {
    "collapsed": false
   },
   "outputs": [],
   "source": [
    "links = soup.findAll('a', href=True)"
   ]
  },
  {
   "cell_type": "markdown",
   "metadata": {},
   "source": [
    "Preparation for the operation of merging."
   ]
  },
  {
   "cell_type": "code",
   "execution_count": 7,
   "metadata": {
    "collapsed": true
   },
   "outputs": [],
   "source": [
    "import os\n",
    "import zipfile\n",
    "import shutil\n",
    "import glob\n",
    "import shapefile\n",
    "\n",
    "###############################################################################\n",
    "\n",
    "folder_input_zip = \"./files/zipinput/\"\n",
    "folder_output_zip = \"./files/zipoutput/\"\n",
    "array_id = [\"_01\",\"_02\",\"_03\",\"_04\",\"_05\",\"_06\",\"_07\",\"_08\",\"_09\",\"_10\",\"_11\",\"_12\",\"_13\",\"_14\",\"_15\",\"_16\",\"_17\",\"_18\",\"_19\",\"_20\",\"_21\",\"_22\",\"_23\",\"24\",\"25\",\"26\",\"27\",\"28\",\"29\",\"30\",\"31\",\"32\",\"33\"]\n",
    "\n",
    "folder_input_shp = folder_output_zip\n",
    "folder_output_shp = \"./files/shapefiles/\"\n",
    "array_elements = ['settlements_poly_grading', 'hydrography_line_grading', 'physiography_line', 'transportation_line_grading']\n",
    "#array_elements = ['settlements_poly_grading']\n",
    "folder_input_merge = folder_output_shp\n",
    "folder_output_merge = \"./files/merged/\"\n",
    "\n",
    "###############################################################################"
   ]
  },
  {
   "cell_type": "markdown",
   "metadata": {},
   "source": [
    "Check and print which zipfiles are already stored in the _\"./files/zipinput/\"_ directory"
   ]
  },
  {
   "cell_type": "code",
   "execution_count": 8,
   "metadata": {
    "collapsed": false,
    "scrolled": true
   },
   "outputs": [
    {
     "data": {
      "text/plain": [
       "['EMSR190_01APPENNINO_GRADING_OVERVIEW_v1_vector.zip',\n",
       " 'EMSR190_02USSITA_GRADING_OVERVIEW-MONIT01_v1_vector.zip',\n",
       " 'EMSR190_02USSITA_GRADING_OVERVIEW-MONIT02_v1_vector.zip',\n",
       " 'EMSR190_02USSITA_GRADING_OVERVIEW_v1_vector.zip',\n",
       " 'EMSR190_03PINTURA_GRADING_OVERVIEW_v1_vector.zip',\n",
       " 'EMSR190_04PRECI_GRADING_OVERVIEW-MONIT01_v1_vector.zip',\n",
       " 'EMSR190_04PRECI_GRADING_OVERVIEW-MONIT02_v2_vector.zip',\n",
       " 'EMSR190_04PRECI_GRADING_OVERVIEW_v1_vector.zip',\n",
       " 'EMSR190_05VISSO_GRADING_OVERVIEW-MONIT01_v1_vector.zip',\n",
       " 'EMSR190_05VISSO_GRADING_OVERVIEW_v1_vector.zip',\n",
       " 'EMSR190_06FOCE_GRADING_OVERVIEW_v1_vector.zip',\n",
       " 'EMSR190_07TODIANO_GRADING_OVERVIEW-MONIT01_v1_vector.zip',\n",
       " 'EMSR190_07TODIANO_GRADING_OVERVIEW-MONIT02_v1_vector.zip',\n",
       " 'EMSR190_07TODIANO_GRADING_OVERVIEW_v2_vector.zip',\n",
       " 'EMSR190_08PIEDELCOLLE_GRADING_OVERVIEW-MONIT01_v1_vector.zip',\n",
       " 'EMSR190_08PIEDELCOLLE_GRADING_OVERVIEW_v1_vector.zip',\n",
       " 'EMSR190_09CASTELLUCCIO_GRADING_OVERVIEW-MONIT01_v1_vector.zip',\n",
       " 'EMSR190_09CASTELLUCCIO_GRADING_OVERVIEW_v1_vector.zip',\n",
       " 'EMSR190_10NORCIA_GRADING_OVERVIEW-MONIT01_v2_vector.zip',\n",
       " 'EMSR190_10NORCIA_GRADING_OVERVIEW-MONIT02_v1_vector.zip',\n",
       " 'EMSR190_11GROTTI_GRADING_OVERVIEW-MONIT01_v1_vector.zip',\n",
       " 'EMSR190_11GROTTI_GRADING_OVERVIEW_v1_vector.zip',\n",
       " 'EMSR190_12ARQUATADELTRONTO_GRADING_OVERVIEW_v1_vector.zip',\n",
       " 'EMSR190_13AMANDOLA_GRADING_OVERVIEW_v2_vector.zip',\n",
       " 'EMSR190_14MONTEMONACO_GRADING_OVERVIEW_v3_vector.zip',\n",
       " 'EMSR190_15MONTEGALLO_GRADING_OVERVIEW_v3_vector.zip',\n",
       " 'EMSR190_16CAMERINO_GRADING_OVERVIEW_v2_vector.zip',\n",
       " 'EMSR190_17MUCCIA_GRADING_OVERVIEW_v2_vector.zip',\n",
       " 'EMSR190_18SANLORENZOALLAGO_GRADING_OVERVIEW_v2_vector.zip',\n",
       " 'EMSR190_19BELFORTEDELCHIENTI_GRADING_OVERVIEW_v1_vector.zip',\n",
       " 'EMSR190_20COLMURANO_GRADING_OVERVIEW_v1_vector.zip',\n",
       " 'EMSR190_21CESSAPALOMBO_GRADING_OVERVIEW_v1_vector.zip',\n",
       " 'EMSR190_22SANGINESIO_GRADING_OVERVIEW_v1_vector.zip',\n",
       " 'EMSR190_23SARNANO_GRADING_OVERVIEW_v2_vector.zip',\n",
       " 'EMSR190_24PRECIAERIAL_GRADING_OVERVIEW_v2_vector.zip',\n",
       " 'EMSR190_25VISSOAERIAL_GRADING_OVERVIEW_v3_vector.zip',\n",
       " 'EMSR190_26USSITAAERIAL_GRADING_OVERVIEW_v2_vector.zip',\n",
       " 'EMSR190_27CASTELSANTANGELOSULNERAAERIAL_GRADING_OVERVIEW_v3_vector.zip',\n",
       " 'EMSR190_28COLFIORITO_GRADING_OVERVIEW_v1_vector.zip',\n",
       " 'EMSR190_29CERRETODISPOLETO_GRADING_OVERVIEW_v1_vector.zip',\n",
       " 'EMSR190_30CASCIA_GRADING_OVERVIEW_v1_vector.zip',\n",
       " 'EMSR190_31SAVELLI_GRADING_OVERVIEW_v1_vector.zip',\n",
       " 'EMSR190_32ACQUASANTATERME_GRADING_OVERVIEW-MONIT01_v1_vector.zip',\n",
       " 'EMSR190_32ACQUASANTATERME_GRADING_OVERVIEW_v1_vector.zip']"
      ]
     },
     "execution_count": 8,
     "metadata": {},
     "output_type": "execute_result"
    }
   ],
   "source": [
    "zipfiles = glob.glob(\"./files/zipinput/*.zip\")\n",
    "zipnames = []\n",
    "for f in zipfiles:\n",
    "    f = f.split('/')[-1]\n",
    "    zipnames.append(f)\n",
    "zipnames.sort()\n",
    "zipnames\n",
    "#fname = zipurltot.split('/')[-1]"
   ]
  },
  {
   "cell_type": "markdown",
   "metadata": {},
   "source": [
    "Check if there are new files in the Copernicus activation and, if present, download them."
   ]
  },
  {
   "cell_type": "code",
   "execution_count": 9,
   "metadata": {
    "collapsed": false,
    "scrolled": true
   },
   "outputs": [
    {
     "name": "stdout",
     "output_type": "stream",
     "text": [
      "EMSR190_33SELLANO_GRADING_OVERVIEW_v1_vector.zip\n",
      "<!DOCTYPE html PUBLIC \"-//W3C//DTD XHTML+RDFa 1.0//EN\"\n",
      "  \"http://www.w3.org/MarkUp/DTD/xhtml-rdfa-1.dtd\">\n",
      "<html xmlns=\"http://www.w3.org/1999/xhtml\" xml:lang=\"en\" version=\"XHTML+RDFa 1.0\" dir=\"ltr\"\n",
      "  xmlns:content=\"http://purl.org/rss/1.0/modules/content/\"\n",
      "  xmlns:dc=\"http://purl.org/dc/terms/\"\n",
      "  xmlns:foaf=\"http://xmlns.com/foaf/0.1/\"\n",
      "  xmlns:og=\"http://ogp.me/ns#\"\n",
      "  xmlns:rdfs=\"http://www.w3.org/2000/01/rdf-schema#\"\n",
      "  xmlns:sioc=\"http://rdfs.org/sioc/ns#\"\n",
      "  xmlns:sioct=\"http://rdfs.org/sioc/types#\"\n",
      "  xmlns:skos=\"http://www.w3.org/2004/02/skos/core#\"\n",
      "  xmlns:xsd=\"http://www.w3.org/2001/XMLSchema#\">\n",
      "\n",
      "<head profile=\"http://www.w3.org/1999/xhtml/vocab\">\n",
      "  <meta http-equiv=\"Content-Type\" content=\"text/html; charset=utf-8\" />\n",
      "<meta property=\"twitter:account_id\" content=\"4503599631060964\" />\n",
      "<meta name=\"twitter:domain\" content=\"emergency.copernicus.eu\" />\n",
      "<meta property=\"og:image\" content=\"http://emergency.copernicus.eu/mapping/sites/all/themes/gmes960/images/Copernicus_tw_photo.png\" />\n",
      "<meta property=\"og:title\" content=\"Download EMSR190_33SELLANO_GRADING_OVERVIEW_v1_vector.zip\" />\n",
      "<meta property=\"og:site_name\" content=\"Copernicus EMS - Mapping\" />\n",
      "<meta name=\"twitter:card\" content=\"summary_large_image\" />\n",
      "<meta name=\"twitter:site\" content=\"@CopernicusEMS\" />\n",
      "<meta name=\"twitter:image:alt\" content=\"Copernicus Emergency Management Service - Mapping is a service funded by European Commission aimed at providing actors in the management of natural and man-made disasters, in particular Civil Protection Authorities and Humanitarian Aid actors, with mapping products based on satellite imagery.\" />\n",
      "<meta http-equiv=\"X-UA-Compatible\" content=\"IE=edge\" />\n",
      "<meta name=\"twitter:image\" content=\"http://emergency.copernicus.eu/mapping/sites/all/themes/gmes960/images/Copernicus_fb.png\" />\n",
      "<meta name=\"twitter:title\" content=\"Download EMSR190_33SELLANO_GRADING_OVERVIEW_v1_vector.zip\" />\n",
      "<meta name=\"twitter:creator\" content=\"@CopernicusEMS\" />\n",
      "<meta name=\"twitter:description\" content=\"Copernicus Emergency Management Service - Mapping is a service funded by European Commission aimed at providing actors in the management of natural and man-made disasters, in particular Civil Protection Authorities and Humanitarian Aid actors, with mapping products based on satellite imagery.\" />\n",
      "<meta property=\"og:url\" content=\"http://emergency.copernicus.eu/mapping/download/138152/EMSR190_33SELLANO_GRADING_OVERVIEW_v1_vector.zip\" />\n",
      "<meta property=\"og:type\" content=\"website\" />\n",
      "<link rel=\"dns-prefetch\" href=\"//cdn-c.copernicus-ems.eu\" />\n",
      "<link rel=\"dns-prefetch\" href=\"//cdn-d.copernicus-ems.eu\" />\n",
      "<link rel=\"dns-prefetch\" href=\"//cdn-b.copernicus-ems.eu\" />\n",
      "<link rel=\"dns-prefetch\" href=\"//cdn-a.copernicus-ems.eu\" />\n",
      "<meta http-equiv=\"x-dns-prefetch-control\" content=\"on\" />\n",
      "<link rel=\"dns-prefetch\" href=\"//cdn-e.copernicus-ems.eu\" />\n",
      "<link rel=\"dns-prefetch\" href=\"//cdn-f.copernicus-ems.eu\" />\n",
      "<link rel=\"dns-prefetch\" href=\"//cdn-j.copernicus-ems.eu\" />\n",
      "<meta property=\"og:locale\" content=\"en_US\" />\n",
      "<link rel=\"dns-prefetch\" href=\"//cdn-i.copernicus-ems.eu\" />\n",
      "<link rel=\"dns-prefetch\" href=\"//cdn-h.copernicus-ems.eu\" />\n",
      "<link rel=\"dns-prefetch\" href=\"//cdn-g.copernicus-ems.eu\" />\n",
      "<meta property=\"og:description\" content=\"Copernicus Emergency Management Service - Mapping is a service funded by European Commission aimed at providing actors in the management of natural and man-made disasters, in particular Civil Protection Authorities and Humanitarian Aid actors, with mapping products based on satellite imagery.\" />\n",
      "  <title>Download EMSR190_33SELLANO_GRADING_OVERVIEW_v1_vector.zip | COPERNICUS EMERGENCY MANAGEMENT SERVICE</title>\n",
      "  <link type=\"text/css\" rel=\"stylesheet\" href=\"//cdn-j.copernicus-ems.eu/mapping/sites/default/files/cdn/css/http/css_1rdb2CQN_1SZwcuMYsquiRjQh3mzuL99-e9rPq5ogW4.css\" media=\"all\" />\n",
      "<link type=\"text/css\" rel=\"stylesheet\" href=\"//cdn-j.copernicus-ems.eu/mapping/sites/default/files/cdn/css/http/css_d5nFMv8cU_V2RKsxUht_NrzruQPHZxX-NBgoMA-Ll10.css\" media=\"all\" />\n",
      "<link type=\"text/css\" rel=\"stylesheet\" href=\"//cdn-b.copernicus-ems.eu/mapping/sites/default/files/cdn/css/http/css_DCFMLU-5vbrYfrl_-pcglfVAQdkE-PM_HpfTLfP_nH0.css\" media=\"all\" />\n",
      "<link type=\"text/css\" rel=\"stylesheet\" href=\"//cdn-f.copernicus-ems.eu/mapping/sites/default/files/cdn/css/http/css_Q2km1N-hiVtl4qKeTOtHV9psULa_WphPd0qI3ehfP90.css\" media=\"all\" />\n",
      "<style type=\"text/css\" media=\"all\">\n",
      "<!--/*--><![CDATA[/*><!--*/\n",
      "#sliding-popup.sliding-popup-bottom{background:#0f6cb6;}#sliding-popup .popup-content #popup-text h2,#sliding-popup .popup-content #popup-text p{color:#ffffff;}\n",
      "\n",
      "/*]]>*/-->\n",
      "</style>\n",
      "<link type=\"text/css\" rel=\"stylesheet\" href=\"//cdn-a.copernicus-ems.eu/mapping/sites/default/files/cdn/css/http/css_5tLZ2KcTgmcC9HR-Sq7gn8f28JQXtNHrhKHiDvkI7g8.css\" media=\"all\" />\n",
      "<link type=\"text/css\" rel=\"stylesheet\" href=\"//cdn-b.copernicus-ems.eu/mapping/sites/default/files/cdn/css/http/css_JL6DKXuW66TeWA9DWNGQILJT3_1_-hgHhG8ccmtQDDQ.css\" media=\"all\" />\n",
      "  <script type=\"text/javascript\" src=\"//cdn-g.copernicus-ems.eu/mapping/sites/default/files/js/js_xAPl0qIk9eowy_iS9tNkCWXLUVoat94SQT48UBCFkyQ.js\"></script>\n",
      "<script type=\"text/javascript\" src=\"//cdn-d.copernicus-ems.eu/mapping/sites/default/files/js/js_n7Lw7PPN-xdTJcPryjHWWwcX-NVLfdUvNwg6eFAlc8I.js\"></script>\n",
      "<script type=\"text/javascript\" src=\"//cdn-h.copernicus-ems.eu/mapping/sites/default/files/js/js_r46_yGNugdTyv7TenbVJ3R-uOeKIvRTO8CpUrlOvcOE.js\"></script>\n",
      "<script type=\"text/javascript\" src=\"//cdn-e.copernicus-ems.eu/mapping/sites/default/files/js/js_mw06s-gYd-ANxp8zZ_N-xVkvD8F3Tf5OMGUGwU-H6zY.js\"></script>\n",
      "<script type=\"text/javascript\" src=\"//cdn-c.copernicus-ems.eu/mapping/sites/default/files/js/js_Lopcmj_l7IPEWti3kt7eC_-s6R9YoZyFydEsmfkGqq8.js\"></script>\n",
      "<script type=\"text/javascript\" src=\"//cdn-g.copernicus-ems.eu/mapping/sites/default/files/js/js_DsYIUMTvkvoN4C2uz7NRzuZ8ZLvXEAdL9WFL0zboVMg.js\"></script>\n",
      "<script type=\"text/javascript\">\n",
      "<!--//--><![CDATA[//><!--\n",
      "var _gaq = _gaq || [];_gaq.push([\"_setAccount\", \"UA-39302618-1\"]);_gaq.push([\"_setDomainName\", \"none\"]);_gaq.push([\"_setAllowLinker\", true]);_gaq.push(['_setSiteSpeedSampleRate', 100]);\n",
      "var pluginUrl = \n",
      " '//www.google-analytics.com/plugins/ga/inpage_linkid.js';\n",
      "_gaq.push(['_require', 'inpage_linkid', pluginUrl]);_gaq.push([\"_trackPageview\"]);(function() {var ga = document.createElement(\"script\");ga.type = \"text/javascript\";ga.async = true;ga.src = \"//cdn-f.copernicus-ems.eu/mapping/sites/default/files/googleanalytics/ga.js?oh5hrl\";var s = document.getElementsByTagName(\"script\")[0];s.parentNode.insertBefore(ga, s);})();\n",
      "//--><!]]>\n",
      "</script>\n",
      "<script type=\"text/javascript\" src=\"//cdn-b.copernicus-ems.eu/mapping/sites/default/files/js/js_zITmmXdoRXOgfgCrPYGfAFcXFydNG8q6VFs050L7XRE.js\"></script>\n",
      "<script type=\"text/javascript\">\n",
      "<!--//--><![CDATA[//><!--\n",
      "(function ($) {\n",
      "\t\tif (typeof OpenLayers !== 'undefined') {\n",
      "\t\t\tOpenLayers.IMAGE_RELOAD_ATTEMPTS = 1;\n",
      "\t\t\tOpenLayers.Util.onImageLoadErrorColor = 'transparent';\n",
      "\t\t}\n",
      "\t})(jQuery);\n",
      "//--><!]]>\n",
      "</script>\n",
      "<script type=\"text/javascript\" src=\"//cdn-e.copernicus-ems.eu/mapping/sites/default/files/js/js_nBxFJ1sJJemj52_-IFKaBAugDv3Efn5vXx8lztU00bo.js\"></script>\n",
      "<script type=\"text/javascript\">\n",
      "<!--//--><![CDATA[//><!--\n",
      "jQuery.extend(Drupal.settings, {\"basePath\":\"\\/mapping\\/\",\"pathPrefix\":\"\",\"ajaxPageState\":{\"theme\":\"gmes960\",\"theme_token\":\"WRxG-nT4C3LXITSlQ_P6f9aJPm1F9UIDoEzIlHJNM7g\",\"js\":{\"sites\\/all\\/modules\\/eu-cookie-compliance\\/js\\/eu_cookie_compliance.js\":1,\"0\":1,\"sites\\/all\\/libraries\\/jquery.plugins\\/magnific_popup\\/jquery.magnific-popup.js\":1,\"1\":1,\"misc\\/jquery.js\":1,\"misc\\/jquery.once.js\":1,\"misc\\/drupal.js\":1,\"misc\\/jquery.cookie.js\":1,\"misc\\/jquery.form.js\":1,\"misc\\/ajax.js\":1,\"sites\\/all\\/libraries\\/jquery\\/jquery-1.11.3.min.js\":1,\"sites\\/all\\/modules\\/jqmulti\\/js\\/switch.js\":1,\"sites\\/all\\/modules\\/collapsiblock\\/collapsiblock.js\":1,\"sites\\/all\\/modules\\/spamspan\\/spamspan.js\":1,\"sites\\/all\\/modules\\/image_caption\\/image_caption.min.js\":1,\"sites\\/all\\/modules\\/panels\\/js\\/panels.js\":1,\"sites\\/all\\/modules\\/custom_search\\/js\\/custom_search.js\":1,\"sites\\/all\\/modules\\/google_analytics\\/googleanalytics.js\":1,\"2\":1,\"sites\\/all\\/libraries\\/jquery.plugins\\/jquery.ticker.js\":1,\"misc\\/textarea.js\":1,\"sites\\/all\\/modules\\/mollom\\/mollom.js\":1,\"misc\\/progress.js\":1,\"sites\\/all\\/modules\\/feedback\\/feedback.js\":1,\"3\":1,\"sites\\/all\\/themes\\/gmes960\\/scripts\\/adapt-config.js\":1,\"sites\\/all\\/themes\\/gmes960\\/scripts\\/adapt.min.js\":1},\"css\":{\"sites\\/all\\/themes\\/ninesixty\\/styles\\/framework\\/reset.css\":1,\"sites\\/all\\/themes\\/ninesixty\\/styles\\/framework\\/text.css\":1,\"sites\\/all\\/themes\\/ninesixty\\/styles\\/framework\\/960.css\":1,\"sites\\/all\\/themes\\/ninesixty\\/styles\\/framework\\/debug.css\":1,\"sites\\/all\\/themes\\/gmes960\\/debug.css\":1,\"modules\\/system\\/system.base.css\":1,\"modules\\/system\\/system.menus.css\":1,\"modules\\/system\\/system.messages.css\":1,\"modules\\/system\\/system.theme.css\":1,\"modules\\/aggregator\\/aggregator.css\":1,\"sites\\/all\\/modules\\/calendar\\/css\\/calendar_multiday.css\":1,\"sites\\/all\\/modules\\/collapsiblock\\/collapsiblock.css\":1,\"sites\\/all\\/modules\\/date\\/date_api\\/date.css\":1,\"sites\\/all\\/modules\\/date\\/date_popup\\/themes\\/datepicker.1.7.css\":1,\"sites\\/all\\/modules\\/date\\/date_repeat_field\\/date_repeat_field.css\":1,\"modules\\/field\\/theme\\/field.css\":1,\"sites\\/all\\/modules\\/mollom\\/mollom.css\":1,\"modules\\/node\\/node.css\":1,\"modules\\/search\\/search.css\":1,\"modules\\/user\\/user.css\":1,\"profiles\\/cartaro\\/modules\\/contrib\\/views\\/css\\/views.css\":1,\"sites\\/all\\/modules\\/ckeditor\\/ckeditor.css\":1,\"profiles\\/cartaro\\/modules\\/contrib\\/ctools\\/css\\/ctools.css\":1,\"0\":1,\"sites\\/all\\/modules\\/eu-cookie-compliance\\/css\\/eu_cookie_compliance.css\":1,\"sites\\/all\\/modules\\/panels\\/css\\/panels.css\":1,\"sites\\/all\\/modules\\/custom_search\\/custom_search.css\":1,\"sites\\/all\\/libraries\\/jquery.plugins\\/magnific_popup\\/magnific-popup.css\":1,\"sites\\/all\\/libraries\\/fontawesome\\/css\\/font-awesome.css\":1,\"sites\\/all\\/modules\\/feedback\\/feedback.css\":1,\"sites\\/all\\/themes\\/ninesixty\\/styles\\/styles.css\":1,\"sites\\/all\\/themes\\/gmes960\\/styles\\/style.css\":1}},\"collapsiblock\":{\"blocks\":{\"block-views--exp-activations-list-page-2\":\"3\",\"block-menu-menu-sidemenu-general\":\"1\",\"block-menu-menu-sidemenu-rush\":\"1\",\"block-menu-menu-sidemenu-nonrush\":\"1\",\"block-views-news-block-1\":\"1\"},\"default_state\":1,\"slide_type\":1,\"slide_speed\":200,\"block_title\":\":header:first\",\"block\":\"div.block\",\"block_content\":\"div.content\"},\"eu_cookie_compliance\":{\"popup_enabled\":1,\"popup_agreed_enabled\":0,\"popup_hide_agreed\":1,\"popup_clicking_confirmation\":0,\"popup_html_info\":\"\\n\\u003Cdiv\\u003E\\n  \\u003Cdiv class =\\u0022popup-content info\\u0022\\u003E\\n    \\u003Cdiv id=\\u0022popup-text\\u0022\\u003E\\n       \\u003Cp\\u003EThis site\\u00a0uses cookies to enhance your user experience.\\u003C\\/p\\u003E\\u003Cp\\u003EBy clicking \\u0022Yes, I agree\\u0022 you are giving your consent for us to set cookies.\\u003C\\/p\\u003E     \\u003C\\/div\\u003E\\n    \\u003Cdiv id=\\u0022popup-buttons\\u0022\\u003E\\n      \\u003Cbutton type=\\u0022button\\u0022 class=\\u0022agree-button\\u0022\\u003EYes, I agree\\u003C\\/button\\u003E\\n      \\u003Cbutton type=\\u0022button\\u0022 class=\\u0022find-more-button\\u0022\\u003ENo, I want to find out more\\u003C\\/button\\u003E\\n    \\u003C\\/div\\u003E\\n  \\u003C\\/div\\u003E\\n\\u003C\\/div\\u003E\\n\",\"popup_html_agreed\":\"\\n\\u003Cdiv\\u003E\\n  \\u003Cdiv class =\\u0022popup-content agreed\\u0022\\u003E\\n    \\u003Cdiv id=\\u0022popup-text\\u0022\\u003E\\n       \\u003Cp\\u003EThank you for accepting cookies\\u003C\\/p\\u003E\\u003Cp\\u003EYou can now hide this message or find out more about cookies.\\u003C\\/p\\u003E     \\u003C\\/div\\u003E\\n    \\u003Cdiv id=\\u0022popup-buttons\\u0022\\u003E\\n      \\u003Cbutton type=\\u0022button\\u0022 class=\\u0022hide-popup-button\\u0022\\u003EHide this message \\u003C\\/button\\u003E\\n      \\u003Cbutton type=\\u0022button\\u0022 class=\\u0022find-more-button\\u0022 \\u003EMore information on cookies\\u003C\\/button\\u003E\\n    \\u003C\\/div\\u003E\\n  \\u003C\\/div\\u003E\\n\\u003C\\/div\\u003E\\n\",\"popup_height\":\"auto\",\"popup_width\":\"100%\",\"popup_delay\":1000,\"popup_link\":\"http:\\/\\/ec.europa.eu\\/cookies\\/index_en.htm\",\"popup_position\":0,\"popup_language\":\"en\"},\"custom_search\":{\"form_target\":\"_self\",\"solr\":0},\"googleanalytics\":{\"trackOutbound\":1,\"trackMailto\":1,\"trackDownload\":1,\"trackDownloadExtensions\":\"7z|aac|arc|arj|asf|asx|avi|bin|csv|doc|exe|flv|gif|gz|gzip|hqx|jar|jpe?g|js|mp(2|3|4|e?g)|mov(ie)?|msi|msp|pdf|phps|png|ppt|qtm?|ra(m|r)?|sea|sit|tar|tgz|torrent|txt|wav|wma|wmv|wpd|xls|xml|z|zip|tiff?\",\"trackDomainMode\":\"2\",\"trackCrossDomains\":[\"emergency.copernicus.eu\",\"www.copernicus-ems.eu\",\"www-dev.copernicus-ems.eu\"]},\"ajax\":{\"feedback-submit\":{\"wrapper\":\"feedback-form\",\"callback\":\"feedback_form_ajax_callback\",\"progress\":{\"type\":\"throbber\",\"message\":\"\"},\"event\":\"mousedown\",\"keypress\":true,\"prevent\":\"click\",\"url\":\"\\/mapping\\/system\\/ajax\",\"submit\":{\"_triggering_element_name\":\"op\",\"_triggering_element_value\":\"Send feedback\"}}}});\n",
      "//--><!]]>\n",
      "</script>\n",
      "</head>\n",
      "<body class=\"html not-front not-logged-in one-sidebar sidebar-first page-download page-download- page-download-138152 page-download-emsr190-33sellano-grading-overview-v1-vectorzip show-grid \" >\n",
      "  <div id=\"skip-link\">\n",
      "    <a href=\"#main-content\" class=\"element-invisible element-focusable\">Skip to main content</a>\n",
      "  </div>\n",
      "    <div id=\"page\">\n",
      "\n",
      "\t<div class=\"container-12 clearfix\">\n",
      "\t\t<div id=\"header\" class=\"grid-12\">\n",
      "\t\t\t<div class=\"grid-3 alpha omega\">\t\n",
      "\t\t\t\t\t\t\t\t<div id=\"logo\"><a href=\"/mapping/\" rel=\"home\" title=\"Copernicus EMS: Mapping\"><img typeof=\"foaf:Image\" src=\"//cdn-j.copernicus-ems.eu/mapping/sites/all/themes/gmes960/images/logo/logo_en.gif\" alt=\"European Commission\" title=\"European Commission\" /></a></div>\n",
      "\t\t\t\t\t\t\t</div>\n",
      "\t\t\t<div class=\"grid-6 alpha\">\n",
      "\t\t\t\t\t\t\t\t<div id=\"title\" class=\"clearfix\"><img typeof=\"foaf:Image\" src=\"//cdn-e.copernicus-ems.eu/mapping/sites/all/themes/gmes960/images/title/title_en.png\" alt=\"Copernicus EMS - Mapping\" title=\"Copernicus EMS - Mapping\" /></div>\n",
      "\t\t\t\t\t\t\t</div>\n",
      "\t\t\t<div class=\"grid-3 omega\">\n",
      "\t\t\t\t\t\t\t\t\t<div id=\"search-box\" class=\"\">  <div class=\"region region-search-box\">\n",
      "    <div id=\"block-search-form\" class=\"block block-search contextual-links-region\">\n",
      "\n",
      "    \n",
      "  <div class=\"content\">\n",
      "    <form class=\"search-form\" role=\"search\" action=\"/mapping/download/138152/EMSR190_33SELLANO_GRADING_OVERVIEW_v1_vector.zip\" method=\"post\" id=\"search-block-form\" accept-charset=\"UTF-8\"><div><div class=\"container-inline\">\n",
      "      <h2 class=\"element-invisible\">Search form</h2>\n",
      "    <div class=\"form-item form-type-textfield form-item-search-block-form\">\n",
      "  <label class=\"element-invisible\" for=\"edit-search-block-form--2\">Search this site </label>\n",
      " <input title=\"Enter the terms you wish to search for. Available operators: AND, OR, - (default: AND).\" class=\"custom-search-box form-text\" placeholder=\"...\" type=\"text\" id=\"edit-search-block-form--2\" name=\"search_block_form\" value=\"\" size=\"15\" maxlength=\"128\" />\n",
      "</div>\n",
      "<div class=\"form-actions form-wrapper\" id=\"edit-actions\"><input alt=\"Search\" class=\"custom-search-button form-submit\" type=\"image\" id=\"edit-submit--2\" name=\"op\" src=\"//cdn-i.copernicus-ems.eu/mapping/sites/all/themes/gmes960/images/bt_search.png\" /></div><input type=\"hidden\" name=\"form_build_id\" value=\"form-fQ9DeVj1WObgeKoKZ0jT_dG3pBwEiIYRcFycYo4_Mho\" />\n",
      "<input type=\"hidden\" name=\"form_id\" value=\"search_block_form\" />\n",
      "</div>\n",
      "</div></form>  </div>\n",
      "</div>\n",
      "  </div>\n",
      "</div>\n",
      "\t\t\t\t\t\t\t</div>\n",
      "\t\t\t<div class=\"mobile\"><span class=\"firstline\"></span><br></div>\n",
      "  </div>\n",
      "\n",
      "\t\t</div>\n",
      "\t</div>\n",
      "\n",
      "\t<div class=\"container-12 clearfix\">\n",
      "\t\t<div id=\"breadcrumb\" class=\"grid-12\">\n",
      "\t\t\t<span style=\"width:10px;float:left\">&nbsp;</span><h2 class=\"element-invisible\">You are here</h2><div class=\"breadcrumb\" xmlns:v=\"http://rdf.data-vocabulary.org/#\"><span class=\"inline odd first last\" typeof=\"v:Breadcrumb\"><a href=\"http://emergency.copernicus.eu/mapping/\" rel=\"v:url\" property=\"v:title\">Home</a></span></div>\t\t</div>\n",
      "\t</div>\n",
      "\n",
      "\t<div class=\"container-12 clearfix\">\n",
      "\t\t\t\t<div id=\"mainmenu\" class=\"grid-12 omega\">\n",
      "\t\t\t<h2 class=\"element-invisible\">Main menu</h2><ul id=\"main-menu\" class=\"inline main-menu\"><li class=\"menu-716 first\"><a href=\"/mapping/copernicus-emergency-management-service\" title=\"Welcome to the portal of the Copernicus Emergency Management Service\">Home</a></li>\n",
      "<li class=\"menu-731\"><a href=\"/mapping/ems/what-copernicus\" title=\"Copernicus is an EU programme aimed at developing European information services based on satellite Earth Observation and in situ (non space) data.\">What is Copernicus</a></li>\n",
      "<li class=\"menu-732\"><a href=\"/mapping/ems/emergency-management-service-mapping\" title=\"The GIO Emergency Management Service (GIO EMS) is the first Copernicus service to become operational.\">EMS - Mapping</a></li>\n",
      "<li class=\"menu-984\"><a href=\"/mapping/ems/early-warning-systems-efas-and-effis\" title=\"The European Flood Awareness System (EFAS), developed to produce European overviews on ongoing and forecasted floods up to 10 days in advance, contributes to better protection of the European Citizen, the environment, property and cultural heritage. It has been developed at the European Commission’s in house science service, the Joint Research Centre since 2002 in close collaboration with the National hydrological and meteorological services, European Civil Protection through the Monitoring and Information Centre (MIC) and other research institutes.\">EMS - Early Warning System</a></li>\n",
      "<li class=\"menu-3061 last\"><a href=\"/mapping/news\" title=\"Copernicus EMS - Mapping News\">News</a></li>\n",
      "</ul>\t\t\t\t\t\t<a href='/mapping/news/feed' id='newsFeedIconInMainMenu' class='feed-icon' title='Subscribe to Copernicus EMS - News feed'>\n",
      "\t\t\t\t<img typeof='Image' src='/mapping/misc/feed.png' width='20' height='20' alt='Subscribe to Copernicus EMS - News feed'>\n",
      "\t\t\t</a>\n",
      "\t\t</div>\n",
      "\t\t\t</div>\n",
      "\n",
      "\t\t<div class=\"container-12 clearfix\">\n",
      "\t\t<div id=\"news-marquee-wrapper\" class=\"grid-12\">\n",
      "\t\t\t  <div class=\"region region-news-marquee\">\n",
      "    <div id=\"block-views-news-block-1\" class=\"block block-views contextual-links-region\">\n",
      "\n",
      "    \n",
      "  <div class=\"content\">\n",
      "    <div class=\"view view-news view-id-news view-display-id-block_1 view-dom-id-318bc5f936f852caa1be681163c9b87a\">\n",
      "\n",
      "        <ul id=\"js-news\" class=\"js-hidden\">  \n",
      "              \n",
      "          <li class=\"js-news-item\">    \n",
      "          <span class=\"date-display-single\" property=\"dc:date\" datatype=\"xsd:dateTime\" content=\"2016-11-11T00:00:00+01:00\">2016-11-11</span> |     \n",
      "          <a target=\"_top\" href=\"/EMSN031\">[EMSN031] Forest fire damage assessment and landslide risk, Madeira Island, Portugal</a>    \n",
      "          </li>        \n",
      "          <li class=\"js-news-item\">    \n",
      "          <span class=\"date-display-single\" property=\"dc:date\" datatype=\"xsd:dateTime\" content=\"2016-10-26T22:45:00+02:00\">2016-10-26</span> |     \n",
      "          <a target=\"_top\" href=\"/EMSR190\">[EMSR190] Earthquake in Central Italy</a>    \n",
      "          </li>        \n",
      "          <li class=\"js-news-item\">    \n",
      "          <span class=\"date-display-single\" property=\"dc:date\" datatype=\"xsd:dateTime\" content=\"2016-10-17T00:00:00+02:00\">2016-10-17</span> |     \n",
      "          <a target=\"_top\" href=\"/EMSN030\">[EMSN030] Ground deformation mapping and monitoring by satellite based multi-temporal DInSAR technique</a>    \n",
      "          </li>        \n",
      "          <li class=\"js-news-item\">    \n",
      "          <span class=\"date-display-single\" property=\"dc:date\" datatype=\"xsd:dateTime\" content=\"2016-10-13T02:15:00+02:00\">2016-10-13</span> |     \n",
      "          <a target=\"_top\" href=\"/EMSR188\">[EMSR188] Floods in Southern France</a>    \n",
      "          </li>        \n",
      "          <li class=\"js-news-item\">    \n",
      "          <span class=\"date-display-single\" property=\"dc:date\" datatype=\"xsd:dateTime\" content=\"2016-10-12T20:41:00+02:00\">2016-10-12</span> |     \n",
      "          <a target=\"_top\" href=\"/EMSR187\">[EMSR187] Floods in Romania</a>    \n",
      "          </li>        \n",
      "          <li class=\"js-news-item\">    \n",
      "          <span class=\"date-display-single\" property=\"dc:date\" datatype=\"xsd:dateTime\" content=\"2016-10-06T20:55:00+02:00\">2016-10-06</span> |     \n",
      "          <a target=\"_top\" href=\"/EMSR186\">[EMSR186] Tropical Cyclone Matthew in Southeastern United States</a>    \n",
      "          </li>    \n",
      "        </ul>\n",
      "  \n",
      "</div>  </div>\n",
      "</div>\n",
      "  </div>\n",
      "\t\t</div>\n",
      "\n",
      "\t\t\t\t\n",
      "\t</div>\n",
      "\t\n",
      "<!--\n",
      "  <div id=\"site-subheader\" class=\"prefix-1 suffix-1 clearfix\">\n",
      "  -->\n",
      "\n",
      "<!--\n",
      "    </div>\n",
      "-->\n",
      "\n",
      "\t<div class=\"container-12 main\">\n",
      "\n",
      "\t\t<div id=\"content\" class=\"column grid-9 push-3\">\n",
      "\n",
      "\t\t\t\t\t\t\t\t\t\t<h1 class=\"title\" id=\"page-title\">Download EMSR190_33SELLANO_GRADING_OVERVIEW_v1_vector.zip</h1>\n",
      "\t\t\t\t\t\t      \n",
      "\t\t\t\t\t\t\t<div class=\"tabs\"></div>\n",
      "\t\t\t\t\t\t\t\t\t\n",
      "\t\t\t<div id=\"main-content\" class=\"region clearfix\">\n",
      "\t\t\t\t  <div class=\"region region-content\">\n",
      "    <div id=\"block-system-main\" class=\"block block-system\">\n",
      "\n",
      "    \n",
      "  <div class=\"content\">\n",
      "    <form action=\"/mapping/download/138152/EMSR190_33SELLANO_GRADING_OVERVIEW_v1_vector.zip\" method=\"post\" id=\"emsmapping-disclaimer-download-form\" accept-charset=\"UTF-8\"><div>\n",
      "\n",
      "<h2>Disclaimer of liability</h2>\n",
      "<p>\n",
      "Copernicus EMS - Mapping aims at providing products that are as accurate as possible. However, the information produced has limitations due to the scale, \n",
      "resolution, date and interpretation methods of the original source material/satellite data.\n",
      "</p><p>\n",
      "Copernicus EMS - Mapping products are provided \"as is\" without warranty of any kind, either expressed or implied, including quality or suitability for any purpose. \n",
      "The entire risk as to the use of these products is assumed by the User, and the EU will not accept any liability for any loss, damage or inconvenience \n",
      "caused as a result of reliance on the Copernicus EMS - Mapping products. \n",
      "</p>\n",
      "\n",
      "<div class=\"form-item form-type-checkbox form-item-confirmation\">\n",
      " <input type=\"checkbox\" id=\"edit-confirmation\" name=\"confirmation\" value=\"1\" class=\"form-checkbox required\" />  <label class=\"option\" for=\"edit-confirmation\">Confirmation <span class=\"form-required\" title=\"This field is required.\">*</span></label>\n",
      "\n",
      "<div class=\"description\">Please confirm that you read and understood the above written disclaimer of liability.</div>\n",
      "</div>\n",
      "<input type=\"submit\" id=\"edit-submit\" name=\"op\" value=\" Download file \" class=\"form-submit\" /><input type=\"hidden\" name=\"form_build_id\" value=\"form-9JsiUlxCRLgmUtEzolvrSrsMjb8tK47hb2VSdgtMYus\" />\n",
      "<input type=\"hidden\" name=\"form_id\" value=\"emsmapping_disclaimer_download_form\" />\n",
      "</div></form>  </div>\n",
      "</div>\n",
      "  </div>\n",
      "\t\t\t</div>\n",
      "\n",
      "<!--\t\t\t\t-->\n",
      "\n",
      "\t\t</div>\n",
      "\n",
      "\t\t\t\t<div id=\"sidebar-left\" class=\"column sidebar region grid-3 pull-9\">\n",
      "\t\t\t\n",
      "<!--   <div class=\"sidebar-top\"></div>\t-->\n",
      "\n",
      "      <div class=\"sidebar-heading\"><h2>EMS - MAPPING</h2></div>\n",
      "   <div class=\"sidebar-content\">\n",
      "\t\t<ul class=\"\"><li class=\"menu-883 first\"><a href=\"/mapping/ems/service-overview\" title=\"Overview of the EMS Mapping service\">Service Overview</a></li>\n",
      "<li class=\"menu-977\"><a href=\"/mapping/ems/who-can-use-service\" title=\"Overview of EMS - Mapping users\">Who can use the service</a></li>\n",
      "<li class=\"menu-978\"><a href=\"/mapping/ems/how-use-service\" title=\"How to use EMS - Mapping service\">How to use the service</a></li>\n",
      "<li class=\"menu-979\"><a href=\"/mapping/ems/ems-rapid-mapping-products\" title=\"Overview of EMS Rapid Mapping products\">Products: Rapid Mapping</a></li>\n",
      "<li class=\"menu-980\"><a href=\"/mapping/ems/ems-risk-and-recovery-mapping-products\" title=\"Overview of the EMS Risk and Recovery products\">Products: Risk and Recovery</a></li>\n",
      "<li class=\"menu-981\"><a href=\"/mapping/ems/quality-control-feedback\" title=\"Quality Control / Feedback\">Quality control / Feedback</a></li>\n",
      "<li class=\"menu-3086\"><a href=\"/mapping/ems/new-phase-brief\">New phase in brief</a></li>\n",
      "<li class=\"menu-3392 last\"><a href=\"/mapping/ems/copernicus-ems-user-guide\" title=\"Complete Copernicus EMS User Guide\">User Guide</a></li>\n",
      "</ul>   </div>\n",
      "   \n",
      "      <div class=\"sidebar-heading\"><h2>RAPID MAPPING</h2></div>\n",
      "   <div class=\"sidebar-content\">\n",
      "\t\t<ul class=\"\"><li class=\"menu-3199 first\"><a href=\"/mapping/list-of-activations-rapid\">List of Activations</a></li>\n",
      "<li class=\"menu-3201\"><a href=\"/mapping/map-of-activations-rapid\" title=\"Interactive map of Copernicus EMS - Mapping Activations\">Map of Activations</a></li>\n",
      "<li class=\"menu-1293 last\"><a href=\"/mapping/activations-rapid/feed\" title=\"GeoRSS feed of latest Copernicus EMS - Mapping rush mode activations\">GeoRSS Feed</a></li>\n",
      "</ul>   </div>\n",
      "   \n",
      "      <div class=\"sidebar-heading\"><h2>RISK AND RECOVERY</h2></div>\n",
      "   <div class=\"sidebar-content\">\n",
      "\t\t<ul class=\"\"><li class=\"menu-3200 first\"><a href=\"/mapping/list-of-activations-risk-and-recovery\" title=\"List of Copernicus EMS - Mapping Non-rush mode Activation\">List of Activations</a></li>\n",
      "<li class=\"menu-3202\"><a href=\"/mapping/map-of-activations-risk-and-recovery\" title=\"Interactive map of Copernicus EMS - Mapping Activations\">Map of Activations</a></li>\n",
      "<li class=\"menu-1294 last\"><a href=\"/mapping/activations-risk-and-recovery/feed\" title=\"GeoRSS feed of latest Copernicus EMS - Mapping non-rush mode activations\">GeoRSS Feed</a></li>\n",
      "</ul>   </div>\n",
      "   \n",
      "   \n",
      "   \n",
      "      <div class=\"sidebar-heading\"><h2>OTHER</h2></div>\n",
      "   <div class=\"sidebar-content\">\n",
      "\t\t<ul class=\"\"><li class=\"menu-2646 first\"><a href=\"/mapping/georss-feeds-aggregated\" title=\"Map of locations and descriptions of mapping activities of several Emergency Mapping organizations using their public GeoRSS feeds.\">Map of Activations of Other Organizations</a></li>\n",
      "<li class=\"menu-3030\"><a href=\"/mapping/tools-mapcoverageplanner\" title=\"Map Coverage Planner is unique tool which allows one to exactly define a desired map extent + map frame (incl. margins) according to a chosen scale and export it as a KML file\">Map Coverage Planner</a></li>\n",
      "<li class=\"menu-2063\"><a href=\"/mapping/events\" title=\"Information about and proceedings from various meetings, workshops and conferences Copernicus EMS took part in\">Meetings, Workshops</a></li>\n",
      "<li class=\"menu-3684\"><a href=\"/mapping/ems/cite-copernicus-ems-mapping-portal\" title=\"Citation Guidelines of the Copernicus EMS\">Citation Guidelines</a></li>\n",
      "<li class=\"menu-3895\"><a href=\"/mapping/list-of-citations\" title=\"GMES/Copernicus EMS - Mapping Portal as a source of information\">Citations</a></li>\n",
      "<li class=\"menu-2880 last\"><a href=\"/mapping/ems/calls-tender\" title=\"Calls for Tender\">Calls for Tender</a></li>\n",
      "</ul>   </div>\n",
      "   \n",
      "   <div class=\"sidebar-footer\">\n",
      "\n",
      "    <div id=\"followButtons\">\n",
      "     <a href=\"https://twitter.com/CopernicusEMS\" class=\"twitter-follow-button\" data-show-count=\"false\" data-lang=\"en\" data-size=\"large\" data-dnt=\"true\">Follow @CopernicusEMS</a>\n",
      "     <script>!function(d,s,id){var js,fjs=d.getElementsByTagName(s)[0];if(!d.getElementById(id)){js=d.createElement(s);js.id=id;js.src=\"//platform.twitter.com/widgets.js\";fjs.parentNode.insertBefore(js,fjs);}}(document,\"script\",\"twitter-wjs\");</script>\n",
      "    </div>\n",
      "   \n",
      "   </div>\n",
      "\n",
      "\t\t</div>\n",
      "\t\t\n",
      "\t\t\n",
      "\t</div>\n",
      "\t\n",
      "     \n",
      "    <div class=\"container-12\">\n",
      "\t    <div id=\"footer\" class=\"region grid-12 clearfix\">\n",
      "\t\t    \t\t     <div class=\"grid-8 alpha\">\n",
      "\t\t\t     <a href=\"http://ec.europa.eu/geninfo/legal_notices_en.htm\" rel=\"license\" title=\"Legal notice\" target=\"_blank\">Legal notice</a>\t\t\t      | <a href=\"/mapping/sites/default/files/files/CopernicusEMS-Data_and_Dissemination_Policy.pdf\" title=\"Data policy\">Data policy</a>\t\t\t      | &copy; <a href=\"http://ec.europa.eu/growth/sectors/space/copernicus/\" rel=\"author\" title=\"European Union\" target=\"_blank\">European Union, 1995-2016</a>\t\t\t     <br />\n",
      "\t\t\t     <span class=\"upd\">Reproduction is authorised, provided the source is acknowledged, save where otherwise stated.</span>\n",
      "\t\t\t </div>\n",
      "\t\t\t <div class=\"grid-2 push-2\">\n",
      "\t\t\t\t <a href=\"http://www.copernicus.eu\" target=\"_blank\" title=\"Copernicus EMS\"><img typeof=\"foaf:Image\" src=\"//cdn-c.copernicus-ems.eu/mapping/sites/all/themes/gmes960/images/Copernicus_h60.png\" alt=\"Copernicus EMS\" title=\"Copernicus EMS\" /></a>\t\t\t </div>\n",
      "\t\t\t <div id=\"footer_lastupdate\" class=\"grid-12 clearfix\">\n",
      "\t\t\t \t <span class=\"upd\">Last update: 2016-11-24 15:33 | <a href=\"#header\">Top</a></span>\n",
      "\t\t\t </div>\n",
      "\t\t\t \t\t</div>\n",
      "\t</div>\n",
      "\n",
      "\t\t\n",
      "\n",
      "\t\t\n",
      "\t\n",
      "\t\n",
      "</div>\n",
      "    <div class=\"region region-page-bottom\">\n",
      "    <div id=\"block-feedback-form\">\n",
      "  <h2><span class=\"feedback-link\">Feedback</span></h2>\n",
      "  <div class=\"content\"><form class=\"feedback-form\" action=\"/mapping/download/138152/EMSR190_33SELLANO_GRADING_OVERVIEW_v1_vector.zip\" method=\"post\" id=\"feedback-form\" accept-charset=\"UTF-8\"><div><div class=\"feedback-help\">If you experience a bug or would like to see an addition on the current page, feel free to leave us a message.</div><div class=\"form-item form-type-textarea form-item-message\">\n",
      "  <label for=\"edit-message\">Message <span class=\"form-required\" title=\"This field is required.\">*</span></label>\n",
      " <div class=\"form-textarea-wrapper resizable\"><textarea class=\"feedback-message form-textarea required\" id=\"edit-message\" name=\"message\" cols=\"20\" rows=\"5\"></textarea></div>\n",
      "</div>\n",
      "<input type=\"hidden\" name=\"form_build_id\" value=\"form-9iYAtP2B1kMlLnvEua1v4jILdI5a1I9ZSX46ThnDRjE\" />\n",
      "<input type=\"hidden\" name=\"form_id\" value=\"feedback_form\" />\n",
      "<input class=\"mollom-content-id\" type=\"hidden\" name=\"mollom[contentId]\" value=\"\" />\n",
      "<input class=\"mollom-captcha-id\" type=\"hidden\" name=\"mollom[captchaId]\" value=\"\" />\n",
      "<div style=\"display: none;\"><div class=\"form-item form-type-textfield form-item-mollom-homepage\">\n",
      " <input autocomplete=\"off\" type=\"text\" id=\"edit-mollom-homepage\" name=\"mollom[homepage]\" value=\"\" size=\"60\" maxlength=\"128\" class=\"form-text\" />\n",
      "</div>\n",
      "</div><div class=\"field-type-email field-name-field-feedback-email field-widget-email-textfield form-wrapper\" id=\"edit-field-feedback-email\"><div id=\"field-feedback-email-add-more-wrapper\"><div class=\"text-full-wrapper\"><div class=\"form-item form-type-textfield form-item-field-feedback-email-und-0-email\">\n",
      "  <label for=\"edit-field-feedback-email-und-0-email\">Your e-mail address </label>\n",
      " <input type=\"text\" id=\"edit-field-feedback-email-und-0-email\" name=\"field_feedback_email[und][0][email]\" value=\"\" size=\"54\" maxlength=\"128\" class=\"form-text\" />\n",
      "<div class=\"description\">Provide us with your e-mail address if you are interested in any potential follow-up to your feedback.</div>\n",
      "</div>\n",
      "</div></div></div><div class=\"clearfix form-actions form-wrapper\" id=\"edit-actions--2\"><input type=\"submit\" id=\"feedback-submit\" name=\"op\" value=\"Send feedback\" class=\"form-submit\" /></div></div></form></div>\n",
      "</div>\n",
      "  </div>\n",
      "<script type=\"text/javascript\" src=\"//cdn-c.copernicus-ems.eu/mapping/sites/default/files/js/js_Dpwj9_jdZx11LB9vWakYPT-NglBvlNPbjDg8kKHykyQ.js\"></script>\n",
      "<script type=\"text/javascript\">\n",
      "<!--//--><![CDATA[//><!--\n",
      "\n",
      "\t            (function($){\n",
      "\t\t\t\t\t$(\"#js-news\").ticker({\n",
      "\t\t\t\t        speed: 0.05,           // The speed of the reveal\n",
      "\t\t\t\t        ajaxFeed: false,       // Populate jQuery News Ticker via a feed\n",
      "\t\t\t\t        feedUrl: false,        // The URL of the feed // MUST BE ON THE SAME DOMAIN AS THE TICKER\n",
      "\t\t\t\t        feedType: \"xml\",       // Currently only XML\n",
      "\t\t\t\t        htmlFeed: true,        // Populate jQuery News Ticker via HTML\n",
      "\t\t\t\t        debugMode: false,       // Show some helpful errors in the console or as alerts  // SHOULD BE SET TO FALSE FOR PRODUCTION SITES!\n",
      "\t\t\t\t        controls: false,        // Whether or not to show the jQuery News Ticker controls\n",
      "\t\t\t\t        titleText: \"Latest News &middot; \",   // To remove the title set this to an empty String\n",
      "\t\t\t\t        displayType: \"fade\", // Animation type - current options are \"reveal\" or \"fade\"\n",
      "\t\t\t\t        direction: \"ltr\",       // Ticker direction - current options are \"ltr\" or \"rtl\"\n",
      "\t\t\t\t        pauseOnItems: 10000,    // The pause on a news item before being replaced\n",
      "\t\t\t\t        fadeInSpeed: 600,      // Speed of fade in animation\n",
      "\t\t\t\t        fadeOutSpeed: 300      // Speed of fade out animation\n",
      "\t\t\t\t\t});\n",
      "\t            })(jq1113);\n",
      "\t\t\t  \n",
      "//--><!]]>\n",
      "</script>\n",
      "<script type=\"text/javascript\" src=\"//cdn-a.copernicus-ems.eu/mapping/sites/default/files/js/js_zTxFBF7QwOCVHlliLHpzEugpI8vIPI5Teg1EDlDdjo8.js\"></script>\n",
      "<script type=\"text/javascript\">\n",
      "<!--//--><![CDATA[//><!--\n",
      "\n",
      "\t\t(function ($) {\n",
      "\n",
      "\t\t\t$(\".pop-img\").magnificPopup({\n",
      "\t\t\t\tcallbacks: {\n",
      "\t\t\t\t\telementParse: function(item) { item.src = item.el.attr(\"src\"); }\t\t\t\t\t\n",
      "\t\t\t\t},\n",
      "\t\t\t\ttype: \"image\",\n",
      "\t\t\t\tcloseOnContentClick: true,\n",
      "\t\t\t\tmainClass: \"mfp-with-zoom\",\n",
      "\t\t\t\timage: { \n",
      "\t\t\t\t\tverticalFit: true,\n",
      "\t\t\t\t\ttitleSrc: \"title\",\n",
      "\t\t\t\t},\n",
      "\t\t        closeBtnInside: true,\n",
      "\t\t        zoom: {\n",
      "\t\t        \tenabled: true,\n",
      "\t\t\t\t\tduration: 300,\n",
      "\t\t\t\t\teasing: \"ease-in-out\",\n",
      "\t\t        },\n",
      "\t\t\t\tmidClick: true,\n",
      "\t\t\t});\n",
      "\t\t\t$(\".pop-video\").magnificPopup({\n",
      "\t\t\t\tdisableOn: 700,\n",
      "\t\t\t\ttype: \"iframe\",\n",
      "\t\t\t\tmainClass: \"mfp-fade\",\n",
      "\t\t\t\tremovalDelay: 160,\n",
      "\t\t\t\tpreloader: true,\n",
      "\t\t\t\tfixedContentPos: false,\n",
      "\t\t\t});\n",
      "\n",
      "\t\t})(jq1113);\n",
      "\t\t\n",
      "//--><!]]>\n",
      "</script>\n",
      "</body>\n",
      "</html>\n",
      "  % Total    % Received % Xferd  Average Speed   Time    Time     Time  Current\n",
      "                                 Dload  Upload   Total   Spent    Left  Speed\n",
      "  0     0    0     0    0     0      0      0 --:--:-- --:--:-- --:--:--     0curl: (6) Could not resolve host: cookie\n",
      "100 1216k    0 1216k  100   143  2778k    326 --:--:-- --:--:-- --:--:-- 2778k\n"
     ]
    }
   ],
   "source": [
    "files_new = []\n",
    "for link in links:\n",
    "    zipurl = link['href']\n",
    "    if( zipurl.endswith('.zip') ):\n",
    "        zipurltot = 'http://emergency.copernicus.eu/' + zipurl\n",
    "        fname = zipurltot.split('/')[-1]\n",
    "        r = requests.get(zipurltot, stream=True)\n",
    "        if fname not in zipnames:\n",
    "            print fname\n",
    "            files_new.append(fname)\n",
    "            if( r.status_code == requests.codes.ok ):\n",
    "                ! curl -s -c cookie $zipurltot\n",
    "                ! curl -b -s cookie $zipurltot -H \"Origin: http://emergency.copernicus.eu\" -H \"Accept-Encoding: gzip, deflate\" -H \"Accept-Language: it-IT,it;q=0.8,en-US;q=0.6,en;q=0.4\" -H \"Upgrade-Insecure-Requests: 1\" -H \"User-Agent: Mozilla/5.0 (Windows NT 10.0; Win64; x64) AppleWebKit/537.36 (KHTML, like Gecko) Chrome/54.0.2840.71 Safari/537.36\" -H \"Content-Type: application/x-www-form-urlencoded\" -H \"Accept: text/html,application/xhtml+xml,application/xml;q=0.9,image/webp,*/*;q=0.8\" -H \"Cache-Control: max-age=0\" -H \"Referer: zipurltot\" -H \"Connection: keep-alive\" --data \"confirmation=1^&op=+Download+file+^&form_build_id=form-wfWtSFuhPbanIpxEiVM8LPHnvLF5LEOuakUYLcXkCeI^&form_id=emsmapping_disclaimer_download_form\" --compressed > ./files/zipinput/$fname"
   ]
  },
  {
   "cell_type": "markdown",
   "metadata": {},
   "source": [
    "List newly downloaded files (if any)"
   ]
  },
  {
   "cell_type": "code",
   "execution_count": 10,
   "metadata": {
    "collapsed": false
   },
   "outputs": [
    {
     "data": {
      "text/plain": [
       "['EMSR190_33SELLANO_GRADING_OVERVIEW_v1_vector.zip']"
      ]
     },
     "execution_count": 10,
     "metadata": {},
     "output_type": "execute_result"
    }
   ],
   "source": [
    "files_new"
   ]
  },
  {
   "cell_type": "code",
   "execution_count": 11,
   "metadata": {
    "collapsed": true
   },
   "outputs": [],
   "source": [
    "def extract_zipped_files (file_name):\n",
    "    #pass\n",
    "    print file_name\n",
    "    file_name_in=folder_input_zip+file_name\n",
    "    with zipfile.ZipFile(file_name_in, \"r\") as z:\n",
    "        z.extractall(folder_output_zip)\n",
    "\n",
    "def clean_folder ():\n",
    "    #pass\n",
    "    folder_del = folder_output_zip + \"*.*\"\n",
    "    files = sorted(glob.glob(folder_del))\n",
    "    for f in files:\n",
    "        os.remove(f)\n",
    "    for element in array_elements:\n",
    "        folder_del = folder_output_shp + element + \"/*.*\"\n",
    "        files = sorted(glob.glob(folder_del))\n",
    "        for f in files:\n",
    "            os.remove(f)\n",
    "    for element in array_elements:\n",
    "        folder_del = folder_output_merge + element + \"_merged.*\"\n",
    "        files = sorted(glob.glob(folder_del))\n",
    "        for f in files:\n",
    "            os.remove(f)\n",
    "\n",
    "\n",
    "clean_folder()\n",
    "#exit()"
   ]
  },
  {
   "cell_type": "markdown",
   "metadata": {},
   "source": [
    "Extract files from zip and copy into a new folder."
   ]
  },
  {
   "cell_type": "code",
   "execution_count": 12,
   "metadata": {
    "collapsed": false,
    "scrolled": true
   },
   "outputs": [
    {
     "name": "stdout",
     "output_type": "stream",
     "text": [
      "EMSR190_01APPENNINO_GRADING_OVERVIEW_v1_vector.zip\n",
      "EMSR190_02USSITA_GRADING_OVERVIEW-MONIT01_v1_vector.zip\n",
      "EMSR190_02USSITA_GRADING_OVERVIEW-MONIT02_v1_vector.zip\n",
      "EMSR190_02USSITA_GRADING_OVERVIEW_v1_vector.zip\n",
      "EMSR190_03PINTURA_GRADING_OVERVIEW_v1_vector.zip\n",
      "EMSR190_04PRECI_GRADING_OVERVIEW-MONIT01_v1_vector.zip\n",
      "EMSR190_04PRECI_GRADING_OVERVIEW-MONIT02_v2_vector.zip\n",
      "EMSR190_04PRECI_GRADING_OVERVIEW_v1_vector.zip\n",
      "EMSR190_05VISSO_GRADING_OVERVIEW-MONIT01_v1_vector.zip\n",
      "EMSR190_05VISSO_GRADING_OVERVIEW_v1_vector.zip\n",
      "EMSR190_06FOCE_GRADING_OVERVIEW_v1_vector.zip\n",
      "EMSR190_07TODIANO_GRADING_OVERVIEW-MONIT01_v1_vector.zip\n",
      "EMSR190_07TODIANO_GRADING_OVERVIEW-MONIT02_v1_vector.zip\n",
      "EMSR190_07TODIANO_GRADING_OVERVIEW_v2_vector.zip\n",
      "EMSR190_08PIEDELCOLLE_GRADING_OVERVIEW-MONIT01_v1_vector.zip\n",
      "EMSR190_08PIEDELCOLLE_GRADING_OVERVIEW_v1_vector.zip\n",
      "EMSR190_09CASTELLUCCIO_GRADING_OVERVIEW-MONIT01_v1_vector.zip\n",
      "EMSR190_09CASTELLUCCIO_GRADING_OVERVIEW_v1_vector.zip\n",
      "EMSR190_10NORCIA_GRADING_OVERVIEW-MONIT01_v2_vector.zip\n",
      "EMSR190_10NORCIA_GRADING_OVERVIEW-MONIT02_v1_vector.zip\n",
      "EMSR190_11GROTTI_GRADING_OVERVIEW-MONIT01_v1_vector.zip\n",
      "EMSR190_11GROTTI_GRADING_OVERVIEW_v1_vector.zip\n",
      "EMSR190_12ARQUATADELTRONTO_GRADING_OVERVIEW_v1_vector.zip\n",
      "EMSR190_13AMANDOLA_GRADING_OVERVIEW_v2_vector.zip\n",
      "EMSR190_14MONTEMONACO_GRADING_OVERVIEW_v3_vector.zip\n",
      "EMSR190_15MONTEGALLO_GRADING_OVERVIEW_v3_vector.zip\n",
      "EMSR190_16CAMERINO_GRADING_OVERVIEW_v2_vector.zip\n",
      "EMSR190_17MUCCIA_GRADING_OVERVIEW_v2_vector.zip\n",
      "EMSR190_18SANLORENZOALLAGO_GRADING_OVERVIEW_v2_vector.zip\n",
      "EMSR190_19BELFORTEDELCHIENTI_GRADING_OVERVIEW_v1_vector.zip\n",
      "EMSR190_20COLMURANO_GRADING_OVERVIEW_v1_vector.zip\n",
      "EMSR190_21CESSAPALOMBO_GRADING_OVERVIEW_v1_vector.zip\n",
      "EMSR190_22SANGINESIO_GRADING_OVERVIEW_v1_vector.zip\n",
      "EMSR190_23SARNANO_GRADING_OVERVIEW_v2_vector.zip\n",
      "EMSR190_24PRECIAERIAL_GRADING_OVERVIEW_v2_vector.zip\n",
      "EMSR190_25VISSOAERIAL_GRADING_OVERVIEW_v3_vector.zip\n",
      "EMSR190_26USSITAAERIAL_GRADING_OVERVIEW_v2_vector.zip\n",
      "EMSR190_27CASTELSANTANGELOSULNERAAERIAL_GRADING_OVERVIEW_v3_vector.zip\n",
      "EMSR190_28COLFIORITO_GRADING_OVERVIEW_v1_vector.zip\n",
      "EMSR190_29CERRETODISPOLETO_GRADING_OVERVIEW_v1_vector.zip\n",
      "EMSR190_30CASCIA_GRADING_OVERVIEW_v1_vector.zip\n",
      "EMSR190_31SAVELLI_GRADING_OVERVIEW_v1_vector.zip\n",
      "EMSR190_32ACQUASANTATERME_GRADING_OVERVIEW-MONIT01_v1_vector.zip\n",
      "EMSR190_32ACQUASANTATERME_GRADING_OVERVIEW_v1_vector.zip\n",
      "EMSR190_33SELLANO_GRADING_OVERVIEW_v1_vector.zip\n"
     ]
    }
   ],
   "source": [
    "for file in sorted(os.listdir(folder_input_zip)):\n",
    "    for id in array_id:\n",
    "        if id in file:\n",
    "            if file.endswith(\".zip\"):\n",
    "                extract_zipped_files(file)"
   ]
  },
  {
   "cell_type": "markdown",
   "metadata": {},
   "source": [
    "Sometimes there are zip files containing a folder named \"VECTOR\" so that shapefiles are one level below.\n",
    "The following code moves the files inside the VECTOR folder back to the \"zipoutput\" folder."
   ]
  },
  {
   "cell_type": "code",
   "execution_count": 13,
   "metadata": {
    "collapsed": false
   },
   "outputs": [
    {
     "name": "stdout",
     "output_type": "stream",
     "text": [
      "VECTOR\n"
     ]
    }
   ],
   "source": [
    "for folder in os.walk('./files/zipoutput/').next()[1]:\n",
    "    if folder == \"VECTOR\":\n",
    "        print \"VECTOR\"\n",
    "        vector = \"./files/zipoutput/VECTOR/\" + \"*.*\"\n",
    "        back = \"./files/zipoutput/\"\n",
    "        files = sorted(glob.glob(vector))\n",
    "        for f in files:\n",
    "            shutil.move(f,back)\n",
    "        !rmdir \"./files/zipoutput/VECTOR\""
   ]
  },
  {
   "cell_type": "markdown",
   "metadata": {},
   "source": [
    "Move files in aggregated folders per type of shapefile."
   ]
  },
  {
   "cell_type": "code",
   "execution_count": 14,
   "metadata": {
    "collapsed": true
   },
   "outputs": [],
   "source": [
    "for file in sorted(os.listdir(folder_input_shp)):\n",
    "    for element in array_elements:\n",
    "        if element in file:\n",
    "            file_move_name_in = folder_input_shp + file\n",
    "            file_move_name_out = folder_output_shp + element + \"/\" + file\n",
    "            shutil.move(file_move_name_in,file_move_name_out)"
   ]
  },
  {
   "cell_type": "markdown",
   "metadata": {},
   "source": [
    "Merge"
   ]
  },
  {
   "cell_type": "code",
   "execution_count": 15,
   "metadata": {
    "collapsed": false
   },
   "outputs": [
    {
     "ename": "ShapefileException",
     "evalue": "Shapefile Writer unable to pack incorrect sized value (size 13) into field 'z_value' (size 9).",
     "output_type": "error",
     "traceback": [
      "\u001b[1;31m---------------------------------------------------------------------------\u001b[0m",
      "\u001b[1;31mShapefileException\u001b[0m                        Traceback (most recent call last)",
      "\u001b[1;32m<ipython-input-15-76f6e79db69f>\u001b[0m in \u001b[0;36m<module>\u001b[1;34m()\u001b[0m\n\u001b[0;32m      9\u001b[0m         \u001b[0mw\u001b[0m\u001b[1;33m.\u001b[0m\u001b[0mrecords\u001b[0m\u001b[1;33m.\u001b[0m\u001b[0mextend\u001b[0m\u001b[1;33m(\u001b[0m\u001b[0mr\u001b[0m\u001b[1;33m.\u001b[0m\u001b[0mrecords\u001b[0m\u001b[1;33m(\u001b[0m\u001b[1;33m)\u001b[0m\u001b[1;33m)\u001b[0m\u001b[1;33m\u001b[0m\u001b[0m\n\u001b[0;32m     10\u001b[0m         \u001b[0mw\u001b[0m\u001b[1;33m.\u001b[0m\u001b[0mfields\u001b[0m \u001b[1;33m=\u001b[0m \u001b[0mlist\u001b[0m\u001b[1;33m(\u001b[0m\u001b[0mr\u001b[0m\u001b[1;33m.\u001b[0m\u001b[0mfields\u001b[0m\u001b[1;33m)\u001b[0m\u001b[1;33m\u001b[0m\u001b[0m\n\u001b[1;32m---> 11\u001b[1;33m     \u001b[0mw\u001b[0m\u001b[1;33m.\u001b[0m\u001b[0msave\u001b[0m\u001b[1;33m(\u001b[0m\u001b[0mfolder_input_out\u001b[0m\u001b[1;33m)\u001b[0m\u001b[1;33m\u001b[0m\u001b[0m\n\u001b[0m\u001b[0;32m     12\u001b[0m     \u001b[0mfolder_input_in\u001b[0m \u001b[1;33m=\u001b[0m \u001b[0mfolder_input_merge\u001b[0m \u001b[1;33m+\u001b[0m \u001b[0mcategory\u001b[0m \u001b[1;33m+\u001b[0m \u001b[1;34m'/*.prj'\u001b[0m\u001b[1;33m\u001b[0m\u001b[0m\n\u001b[0;32m     13\u001b[0m     \u001b[0mfolder_input_out\u001b[0m \u001b[1;33m=\u001b[0m \u001b[0mfolder_output_merge\u001b[0m \u001b[1;33m+\u001b[0m \u001b[0mcategory\u001b[0m \u001b[1;33m+\u001b[0m \u001b[1;34m'_merged.prj'\u001b[0m\u001b[1;33m\u001b[0m\u001b[0m\n",
      "\u001b[1;32m/home/ale/.local/lib/python2.7/site-packages/shapefile.pyc\u001b[0m in \u001b[0;36msave\u001b[1;34m(self, target, shp, shx, dbf)\u001b[0m\n\u001b[0;32m   1059\u001b[0m             \u001b[0mself\u001b[0m\u001b[1;33m.\u001b[0m\u001b[0msaveShx\u001b[0m\u001b[1;33m(\u001b[0m\u001b[0mtarget\u001b[0m\u001b[1;33m)\u001b[0m\u001b[1;33m\u001b[0m\u001b[0m\n\u001b[0;32m   1060\u001b[0m             \u001b[0mself\u001b[0m\u001b[1;33m.\u001b[0m\u001b[0mshx\u001b[0m\u001b[1;33m.\u001b[0m\u001b[0mclose\u001b[0m\u001b[1;33m(\u001b[0m\u001b[1;33m)\u001b[0m\u001b[1;33m\u001b[0m\u001b[0m\n\u001b[1;32m-> 1061\u001b[1;33m             \u001b[0mself\u001b[0m\u001b[1;33m.\u001b[0m\u001b[0msaveDbf\u001b[0m\u001b[1;33m(\u001b[0m\u001b[0mtarget\u001b[0m\u001b[1;33m)\u001b[0m\u001b[1;33m\u001b[0m\u001b[0m\n\u001b[0m\u001b[0;32m   1062\u001b[0m             \u001b[0mself\u001b[0m\u001b[1;33m.\u001b[0m\u001b[0mdbf\u001b[0m\u001b[1;33m.\u001b[0m\u001b[0mclose\u001b[0m\u001b[1;33m(\u001b[0m\u001b[1;33m)\u001b[0m\u001b[1;33m\u001b[0m\u001b[0m\n\u001b[0;32m   1063\u001b[0m             \u001b[1;32mif\u001b[0m \u001b[0mgenerated\u001b[0m\u001b[1;33m:\u001b[0m\u001b[1;33m\u001b[0m\u001b[0m\n",
      "\u001b[1;32m/home/ale/.local/lib/python2.7/site-packages/shapefile.pyc\u001b[0m in \u001b[0;36msaveDbf\u001b[1;34m(self, target)\u001b[0m\n\u001b[0;32m   1031\u001b[0m         \u001b[0mself\u001b[0m\u001b[1;33m.\u001b[0m\u001b[0mdbf\u001b[0m \u001b[1;33m=\u001b[0m \u001b[0mself\u001b[0m\u001b[1;33m.\u001b[0m\u001b[0m__getFileObj\u001b[0m\u001b[1;33m(\u001b[0m\u001b[0mtarget\u001b[0m\u001b[1;33m)\u001b[0m\u001b[1;33m\u001b[0m\u001b[0m\n\u001b[0;32m   1032\u001b[0m         \u001b[0mself\u001b[0m\u001b[1;33m.\u001b[0m\u001b[0m__dbfHeader\u001b[0m\u001b[1;33m(\u001b[0m\u001b[1;33m)\u001b[0m\u001b[1;33m\u001b[0m\u001b[0m\n\u001b[1;32m-> 1033\u001b[1;33m         \u001b[0mself\u001b[0m\u001b[1;33m.\u001b[0m\u001b[0m__dbfRecords\u001b[0m\u001b[1;33m(\u001b[0m\u001b[1;33m)\u001b[0m\u001b[1;33m\u001b[0m\u001b[0m\n\u001b[0m\u001b[0;32m   1034\u001b[0m \u001b[1;33m\u001b[0m\u001b[0m\n\u001b[0;32m   1035\u001b[0m     \u001b[1;32mdef\u001b[0m \u001b[0msave\u001b[0m\u001b[1;33m(\u001b[0m\u001b[0mself\u001b[0m\u001b[1;33m,\u001b[0m \u001b[0mtarget\u001b[0m\u001b[1;33m=\u001b[0m\u001b[0mNone\u001b[0m\u001b[1;33m,\u001b[0m \u001b[0mshp\u001b[0m\u001b[1;33m=\u001b[0m\u001b[0mNone\u001b[0m\u001b[1;33m,\u001b[0m \u001b[0mshx\u001b[0m\u001b[1;33m=\u001b[0m\u001b[0mNone\u001b[0m\u001b[1;33m,\u001b[0m \u001b[0mdbf\u001b[0m\u001b[1;33m=\u001b[0m\u001b[0mNone\u001b[0m\u001b[1;33m)\u001b[0m\u001b[1;33m:\u001b[0m\u001b[1;33m\u001b[0m\u001b[0m\n",
      "\u001b[1;32m/home/ale/.local/lib/python2.7/site-packages/shapefile.pyc\u001b[0m in \u001b[0;36m__dbfRecords\u001b[1;34m(self)\u001b[0m\n\u001b[0;32m    918\u001b[0m                     raise ShapefileException(\n\u001b[0;32m    919\u001b[0m                         \u001b[1;34m\"Shapefile Writer unable to pack incorrect sized value\"\u001b[0m\u001b[1;33m\u001b[0m\u001b[0m\n\u001b[1;32m--> 920\u001b[1;33m                         \" (size %d) into field '%s' (size %d).\" % (len(value), fieldName, size))\n\u001b[0m\u001b[0;32m    921\u001b[0m                 \u001b[0mvalue\u001b[0m \u001b[1;33m=\u001b[0m \u001b[0mb\u001b[0m\u001b[1;33m(\u001b[0m\u001b[0mvalue\u001b[0m\u001b[1;33m)\u001b[0m\u001b[1;33m\u001b[0m\u001b[0m\n\u001b[0;32m    922\u001b[0m                 \u001b[0mf\u001b[0m\u001b[1;33m.\u001b[0m\u001b[0mwrite\u001b[0m\u001b[1;33m(\u001b[0m\u001b[0mvalue\u001b[0m\u001b[1;33m)\u001b[0m\u001b[1;33m\u001b[0m\u001b[0m\n",
      "\u001b[1;31mShapefileException\u001b[0m: Shapefile Writer unable to pack incorrect sized value (size 13) into field 'z_value' (size 9)."
     ]
    }
   ],
   "source": [
    "for category in array_elements:\n",
    "    folder_input_in = folder_input_merge + category + '/*.shp'\n",
    "    folder_input_out = folder_output_merge + category + '_merged.shp'\n",
    "    files = sorted(glob.glob(folder_input_in))\n",
    "    w = shapefile.Writer()\n",
    "    for f in files:\n",
    "        r = shapefile.Reader(f)\n",
    "        w._shapes.extend(r.shapes())\n",
    "        w.records.extend(r.records())\n",
    "        w.fields = list(r.fields)\n",
    "    w.save(folder_input_out)\n",
    "    folder_input_in = folder_input_merge + category + '/*.prj'\n",
    "    folder_input_out = folder_output_merge + category + '_merged.prj'\n",
    "    files = sorted(glob.glob(folder_input_in))\n",
    "    for f in files:\n",
    "        shutil.copy(f,folder_input_out)\n",
    "        break\n",
    "\n",
    "print \"Finito !\""
   ]
  }
 ],
 "metadata": {
  "kernelspec": {
   "display_name": "Python 2",
   "language": "python",
   "name": "python2"
  },
  "language_info": {
   "codemirror_mode": {
    "name": "ipython",
    "version": 2
   },
   "file_extension": ".py",
   "mimetype": "text/x-python",
   "name": "python",
   "nbconvert_exporter": "python",
   "pygments_lexer": "ipython2",
   "version": "2.7.12"
  }
 },
 "nbformat": 4,
 "nbformat_minor": 0
}
