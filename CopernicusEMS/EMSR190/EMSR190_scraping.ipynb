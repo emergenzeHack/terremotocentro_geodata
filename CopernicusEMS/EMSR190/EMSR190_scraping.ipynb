{
 "cells": [
  {
   "cell_type": "markdown",
   "metadata": {
    "collapsed": true
   },
   "source": [
    "# Python Web scraping for CopernicusEMS service"
   ]
  },
  {
   "cell_type": "markdown",
   "metadata": {},
   "source": [
    "Lo scopo di questo documento è quello di automatizzare lo scaricamento dei file vettoriali forniti dal servizio CopernicusEMS e la loro aggregazione in un unico shapefile."
   ]
  },
  {
   "cell_type": "markdown",
   "metadata": {},
   "source": [
    "## Download of vector zip files"
   ]
  },
  {
   "cell_type": "markdown",
   "metadata": {},
   "source": [
    "### List of useful links"
   ]
  },
  {
   "cell_type": "markdown",
   "metadata": {},
   "source": [
    "* Download all Links from a Webpage with Python\n",
    "  * http://leftbraintinkering.blogspot.it/2012/09/download-all-links-from-webpage-with.html\n",
    "* _Requests_ library:\n",
    "  * http://stackoverflow.com/questions/13962006/using-python-to-ask-a-web-page-to-run-a-search\n",
    "* download all zip files:\n",
    "  * http://stackoverflow.com/questions/29827479/beautifulsoup-download-all-zip-files-from-google-patent-search#29836829"
   ]
  },
  {
   "cell_type": "markdown",
   "metadata": {},
   "source": [
    "### Step by step"
   ]
  },
  {
   "cell_type": "markdown",
   "metadata": {},
   "source": [
    "Import Beautiful Soup"
   ]
  },
  {
   "cell_type": "code",
   "execution_count": 1,
   "metadata": {
    "collapsed": true
   },
   "outputs": [],
   "source": [
    "from bs4 import BeautifulSoup as BS"
   ]
  },
  {
   "cell_type": "code",
   "execution_count": 2,
   "metadata": {
    "collapsed": true
   },
   "outputs": [],
   "source": [
    "import urllib\n",
    "import urllib2"
   ]
  },
  {
   "cell_type": "code",
   "execution_count": 3,
   "metadata": {
    "collapsed": true
   },
   "outputs": [],
   "source": [
    "import requests"
   ]
  },
  {
   "cell_type": "markdown",
   "metadata": {},
   "source": [
    "Set the base URL to the relevant CopernicusEMS component"
   ]
  },
  {
   "cell_type": "code",
   "execution_count": 4,
   "metadata": {
    "collapsed": true
   },
   "outputs": [],
   "source": [
    "baseurl = \"http://emergency.copernicus.eu/mapping/list-of-components/EMSR190/\" "
   ]
  },
  {
   "cell_type": "markdown",
   "metadata": {},
   "source": [
    "Create a soup object with the baseurl"
   ]
  },
  {
   "cell_type": "code",
   "execution_count": 5,
   "metadata": {
    "collapsed": false
   },
   "outputs": [
    {
     "name": "stderr",
     "output_type": "stream",
     "text": [
      "/usr/lib/python2.7/dist-packages/bs4/__init__.py:166: UserWarning: No parser was explicitly specified, so I'm using the best available HTML parser for this system (\"lxml\"). This usually isn't a problem, but if you run this code on another system, or in a different virtual environment, it may use a different parser and behave differently.\n",
      "\n",
      "To get rid of this warning, change this:\n",
      "\n",
      " BeautifulSoup([your markup])\n",
      "\n",
      "to this:\n",
      "\n",
      " BeautifulSoup([your markup], \"lxml\")\n",
      "\n",
      "  markup_type=markup_type))\n"
     ]
    }
   ],
   "source": [
    "soup = BS(urllib2.urlopen(baseurl))"
   ]
  },
  {
   "cell_type": "markdown",
   "metadata": {},
   "source": [
    "Extract all links (using the \"< a >\" tags where the attribute \"href\" is valid)"
   ]
  },
  {
   "cell_type": "code",
   "execution_count": 6,
   "metadata": {
    "collapsed": false
   },
   "outputs": [],
   "source": [
    "links = soup.findAll('a', href=True)"
   ]
  },
  {
   "cell_type": "markdown",
   "metadata": {},
   "source": [
    "Create a loop searching, among all links, for the .zip files and downloading them in a folder \"./zipfiles\".\n",
    "\n",
    "**It'll download almost 50Mb of data**"
   ]
  },
  {
   "cell_type": "code",
   "execution_count": null,
   "metadata": {
    "collapsed": false,
    "scrolled": true
   },
   "outputs": [],
   "source": [
    "i = 1 # questo mi serve solamente per limitare il download al primo elemento\n",
    "for link in links:\n",
    "    if i > 3: # questo mi serve solamente per limitare il download al primo elemento\n",
    "        break\n",
    "    zipurl = link['href']\n",
    "    if( zipurl.endswith('.zip') ):\n",
    "        zipurltot = 'http://emergency.copernicus.eu/' + zipurl\n",
    "        fname = zipurltot.split('/')[-1]\n",
    "        r = requests.get(zipurltot, stream=True)\n",
    "        i += 1 # questo mi serve solamente per limitare il download al primo elemento\n",
    "        if( r.status_code == requests.codes.ok ):\n",
    "            ! curl -s -c cookie $zipurltot\n",
    "            ! curl -b -s cookie $zipurltot -H \"Origin: http://emergency.copernicus.eu\" -H \"Accept-Encoding: gzip, deflate\" -H \"Accept-Language: it-IT,it;q=0.8,en-US;q=0.6,en;q=0.4\" -H \"Upgrade-Insecure-Requests: 1\" -H \"User-Agent: Mozilla/5.0 (Windows NT 10.0; Win64; x64) AppleWebKit/537.36 (KHTML, like Gecko) Chrome/54.0.2840.71 Safari/537.36\" -H \"Content-Type: application/x-www-form-urlencoded\" -H \"Accept: text/html,application/xhtml+xml,application/xml;q=0.9,image/webp,*/*;q=0.8\" -H \"Cache-Control: max-age=0\" -H \"Referer: zipurltot\" -H \"Connection: keep-alive\" --data \"confirmation=1^&op=+Download+file+^&form_build_id=form-wfWtSFuhPbanIpxEiVM8LPHnvLF5LEOuakUYLcXkCeI^&form_id=emsmapping_disclaimer_download_form\" --compressed > ./zipfiles/$fname\n"
   ]
  },
  {
   "cell_type": "markdown",
   "metadata": {
    "collapsed": true
   },
   "source": [
    "## Aggregating shapefiles"
   ]
  },
  {
   "cell_type": "markdown",
   "metadata": {},
   "source": [
    "To do..."
   ]
  }
 ],
 "metadata": {
  "kernelspec": {
   "display_name": "Python 2",
   "language": "python",
   "name": "python2"
  },
  "language_info": {
   "codemirror_mode": {
    "name": "ipython",
    "version": 2
   },
   "file_extension": ".py",
   "mimetype": "text/x-python",
   "name": "python",
   "nbconvert_exporter": "python",
   "pygments_lexer": "ipython2",
   "version": "2.7.12"
  }
 },
 "nbformat": 4,
 "nbformat_minor": 0
}
